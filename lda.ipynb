{
 "cells": [
  {
   "cell_type": "code",
   "execution_count": 26,
   "id": "92174c3a",
   "metadata": {},
   "outputs": [],
   "source": [
    "import pandas as pd\n",
    "import numpy as np\n",
    "from sklearn.feature_extraction.text import CountVectorizer\n",
    "from gensim import matutils, models, corpora\n",
    "import pyLDAvis\n",
    "import pyLDAvis.gensim_models as gensimvis\n",
    "from sklearn.decomposition import NMF, LatentDirichletAllocation, TruncatedSVD"
   ]
  },
  {
   "cell_type": "code",
   "execution_count": 27,
   "id": "e4bb07a5",
   "metadata": {},
   "outputs": [],
   "source": [
    "# Assuming count_df_1 is your DataFrame containing the count vectorized data\n",
    "count_df_1 = pd.read_csv(\"arm_labelled.csv\",index_col=0)"
   ]
  },
  {
   "cell_type": "code",
   "execution_count": 28,
   "id": "bb691336",
   "metadata": {},
   "outputs": [],
   "source": [
    "count_df_1 = count_df_1.iloc[:,:-1]"
   ]
  },
  {
   "cell_type": "code",
   "execution_count": 16,
   "id": "a0b210ff",
   "metadata": {},
   "outputs": [
    {
     "data": {
      "text/html": [
       "\n",
       "<link rel=\"stylesheet\" type=\"text/css\" href=\"https://cdn.jsdelivr.net/gh/bmabey/pyLDAvis@3.3.1/pyLDAvis/js/ldavis.v1.0.0.css\">\n",
       "\n",
       "\n",
       "<div id=\"ldavis_el2689620503545907926579918235\"></div>\n",
       "<script type=\"text/javascript\">\n",
       "\n",
       "var ldavis_el2689620503545907926579918235_data = {\"mdsDat\": {\"x\": [-0.023511287126691247, -0.25535434519479117, -0.1026676053576764, 0.3815332376791587], \"y\": [0.3753574422503583, -0.04134141563699688, -0.2596167362340549, -0.07439929037930641], \"topics\": [1, 2, 3, 4], \"cluster\": [1, 1, 1, 1], \"Freq\": [30.024196967506594, 26.501041951368066, 23.521213426809886, 19.953547654315454]}, \"tinfo\": {\"Term\": [\"flight\", \"thank\", \"time\", \"hour\", \"cancel\", \"help\", \"wait\", \"servic\", \"custom\", \"amp\", \"delay\", \"bag\", \"hold\", \"airlin\", \"seat\", \"like\", \"day\", \"agent\", \"guy\", \"gate\", \"tri\", \"flightl\", \"pleas\", \"phone\", \"know\", \"check\", \"airport\", \"fli\", \"min\", \"way\", \"flight\", \"cancel\", \"delay\", \"flightl\", \"late\", \"work\", \"miss\", \"today\", \"book\", \"chang\", \"need\", \"make\", \"got\", \"board\", \"great\", \"minut\", \"travel\", \"way\", \"min\", \"ticket\", \"airport\", \"know\", \"check\", \"guy\", \"phone\", \"like\", \"pleas\", \"seat\", \"gate\", \"agent\", \"day\", \"tri\", \"plane\", \"hold\", \"hour\", \"amp\", \"help\", \"time\", \"wait\", \"hour\", \"help\", \"servic\", \"custom\", \"hold\", \"tri\", \"pleas\", \"phone\", \"ticket\", \"plane\", \"chang\", \"got\", \"minut\", \"make\", \"need\", \"today\", \"board\", \"great\", \"travel\", \"miss\", \"way\", \"min\", \"work\", \"late\", \"airport\", \"know\", \"check\", \"book\", \"guy\", \"like\", \"agent\", \"wait\", \"day\", \"amp\", \"flight\", \"time\", \"delay\", \"wait\", \"amp\", \"bag\", \"day\", \"agent\", \"gate\", \"check\", \"airport\", \"min\", \"way\", \"board\", \"travel\", \"fli\", \"minut\", \"need\", \"plane\", \"today\", \"make\", \"great\", \"miss\", \"ticket\", \"work\", \"late\", \"know\", \"chang\", \"got\", \"book\", \"guy\", \"phone\", \"like\", \"tri\", \"hold\", \"hour\", \"delay\", \"help\", \"thank\", \"time\", \"airlin\", \"seat\", \"like\", \"guy\", \"know\", \"great\", \"book\", \"fli\", \"travel\", \"make\", \"got\", \"board\", \"minut\", \"miss\", \"way\", \"today\", \"min\", \"ticket\", \"work\", \"airport\", \"late\", \"chang\", \"check\", \"phone\", \"pleas\", \"gate\", \"agent\", \"tri\", \"day\", \"plane\", \"need\", \"servic\", \"help\", \"custom\", \"flight\", \"hour\"], \"Freq\": [4700.0, 1694.0, 1038.0, 1149.0, 1219.0, 1101.0, 856.0, 929.0, 892.0, 720.0, 859.0, 697.0, 713.0, 571.0, 542.0, 531.0, 585.0, 572.0, 505.0, 546.0, 581.0, 616.0, 539.0, 536.0, 423.0, 429.0, 416.0, 629.0, 380.0, 367.0, 4699.451888076707, 1218.535313762819, 858.7093529425348, 615.8612127982814, 416.3406336923563, 411.2511175182567, 356.6839626791011, 227.64326460239624, 249.80944547691539, 167.14078779340747, 181.59850154261056, 88.8983577918089, 89.4606000324288, 0.2316345711671948, 0.2290575366335179, 0.23635461410011777, 0.2323639597256913, 0.23357446775421428, 0.23354005473527714, 0.23392323750924074, 0.2333803560016793, 0.23001564182522416, 0.23199668403397336, 0.2307639723698158, 0.23521485072684517, 0.23100915422850787, 0.23194721858962172, 0.23122098702880775, 0.23102616015525076, 0.2330801970341733, 0.23389414429302827, 0.23345136228657193, 0.23626402047601255, 0.2346052187765709, 0.23840608700854674, 0.23414213430987996, 0.23478645835070971, 0.23273866569924767, 0.2323623550638858, 1148.9651501623762, 1100.4445168977236, 928.2480024244226, 891.5950127949139, 713.1903382576385, 580.3843313894404, 538.9249836078126, 535.7816178092448, 399.3184402851781, 439.0127346968651, 267.84278946441196, 274.60709851451367, 153.51116656678371, 173.9591085416421, 236.4806876964341, 74.82636364929101, 0.22161482841571933, 0.22345377771452288, 0.22547891737758005, 0.2251473956888222, 0.22544912753511018, 0.22776098865871466, 0.2274590720692176, 0.22754968861328875, 0.2252763772393197, 0.22402477278809674, 0.22428544545615878, 0.23541219024530463, 0.22495456996430785, 0.22414149970572292, 0.23064975663858472, 0.23037564390205953, 0.2262138258634417, 0.22590262592768653, 0.22599641389684755, 0.22558865484379467, 0.2255199919510734, 856.0226615169543, 719.5976724012768, 696.608427733834, 584.7442798174853, 571.7119499013102, 546.2431311187623, 428.50760378013786, 415.7351917519284, 379.30549459314966, 367.119884695943, 312.05599469085337, 258.0801330539925, 446.051585485259, 188.91958744011322, 308.31861164913363, 270.0548255177799, 81.32108860237085, 74.7080840823425, 0.25039186798834345, 0.2552933509161742, 0.2540786040948307, 0.25622169623723257, 0.25752982415843056, 0.2515435955482693, 0.25825285130471376, 0.2601376628574977, 0.25587353258135137, 0.2521631300913483, 0.25594775648161616, 0.25196710356829993, 0.2550955480479429, 0.257325298506891, 0.25861782191886545, 0.2566315673919347, 0.254960053903056, 1693.6060108487038, 1038.0261934299942, 570.4023230843451, 542.2075446276638, 531.123785621274, 505.05399096409053, 422.4946954553476, 324.3055923917671, 259.1700150397123, 183.46541370263483, 81.91589750423024, 104.38949679519475, 107.54670443714915, 0.2757703318712203, 0.2771109963053225, 0.2771349214241382, 0.27573105943781545, 0.2852690445228942, 0.2742401906967298, 0.280053739553145, 0.28411118005183644, 0.2747538157038635, 0.2746273278664037, 0.2800206802319907, 0.2754685322619734, 0.27538695038880234, 0.2758753983813684, 0.27422913228425394, 0.2755538002726363, 0.2787383216833745, 0.2770589035320871, 0.27963196660099954, 0.27996260617905144, 0.27727205037548985, 0.2775804572123167, 0.27686050123865225, 0.2766445724046896, 0.27593630079137693], \"Total\": [4700.0, 1694.0, 1038.0, 1149.0, 1219.0, 1101.0, 856.0, 929.0, 892.0, 720.0, 859.0, 697.0, 713.0, 571.0, 542.0, 531.0, 585.0, 572.0, 505.0, 546.0, 581.0, 616.0, 539.0, 536.0, 423.0, 429.0, 416.0, 629.0, 380.0, 367.0, 4700.209353486125, 1219.2844309383397, 859.4669374246605, 616.6096935786014, 417.10034053299444, 412.01890946661496, 357.4415383471303, 384.07598589858105, 509.47074623945434, 435.5218507893561, 726.6777634943575, 441.9550472109883, 471.8745406469491, 312.7850144223075, 325.0084955741035, 342.9442196173024, 340.453873435326, 367.8546393506702, 380.04103582724036, 400.0864958663353, 416.46860230087333, 423.2002794655092, 429.23935444189, 505.761872636516, 536.5481673668421, 531.8309033787765, 539.6852043516784, 542.9139955061468, 546.9725760211184, 572.4512336552556, 585.4814466911739, 581.1516166214583, 709.583456201722, 713.9572113718685, 1149.738110372095, 720.3333339275066, 1101.2118438671896, 1038.7388224362587, 856.760715456, 1149.738110372095, 1101.2118438671896, 929.0079941293909, 892.3540508884994, 713.9572113718685, 581.1516166214583, 539.6852043516784, 536.5481673668421, 400.0864958663353, 709.583456201722, 435.5218507893561, 471.8745406469491, 342.9442196173024, 441.9550472109883, 726.6777634943575, 384.07598589858105, 312.7850144223075, 325.0084955741035, 340.453873435326, 357.4415383471303, 367.8546393506702, 380.04103582724036, 412.01890946661496, 417.10034053299444, 416.46860230087333, 423.2002794655092, 429.23935444189, 509.47074623945434, 505.761872636516, 531.8309033787765, 572.4512336552556, 856.760715456, 585.4814466911739, 720.3333339275066, 4700.209353486125, 1038.7388224362587, 859.4669374246605, 856.760715456, 720.3333339275066, 697.3353414384209, 585.4814466911739, 572.4512336552556, 546.9725760211184, 429.23935444189, 416.46860230087333, 380.04103582724036, 367.8546393506702, 312.7850144223075, 340.453873435326, 629.9720668837214, 342.9442196173024, 726.6777634943575, 709.583456201722, 384.07598589858105, 441.9550472109883, 325.0084955741035, 357.4415383471303, 400.0864958663353, 412.01890946661496, 417.10034053299444, 423.2002794655092, 435.5218507893561, 471.8745406469491, 509.47074623945434, 505.761872636516, 536.5481673668421, 531.8309033787765, 581.1516166214583, 713.9572113718685, 1149.738110372095, 859.4669374246605, 1101.2118438671896, 1694.3100150838027, 1038.7388224362587, 571.109331765423, 542.9139955061468, 531.8309033787765, 505.761872636516, 423.2002794655092, 325.0084955741035, 509.47074623945434, 629.9720668837214, 340.453873435326, 441.9550472109883, 471.8745406469491, 312.7850144223075, 342.9442196173024, 357.4415383471303, 367.8546393506702, 384.07598589858105, 380.04103582724036, 400.0864958663353, 412.01890946661496, 416.46860230087333, 417.10034053299444, 435.5218507893561, 429.23935444189, 536.5481673668421, 539.6852043516784, 546.9725760211184, 572.4512336552556, 581.1516166214583, 585.4814466911739, 709.583456201722, 726.6777634943575, 929.0079941293909, 1101.2118438671896, 892.3540508884994, 4700.209353486125, 1149.738110372095], \"Category\": [\"Default\", \"Default\", \"Default\", \"Default\", \"Default\", \"Default\", \"Default\", \"Default\", \"Default\", \"Default\", \"Default\", \"Default\", \"Default\", \"Default\", \"Default\", \"Default\", \"Default\", \"Default\", \"Default\", \"Default\", \"Default\", \"Default\", \"Default\", \"Default\", \"Default\", \"Default\", \"Default\", \"Default\", \"Default\", \"Default\", \"Topic1\", \"Topic1\", \"Topic1\", \"Topic1\", \"Topic1\", \"Topic1\", \"Topic1\", \"Topic1\", \"Topic1\", \"Topic1\", \"Topic1\", \"Topic1\", \"Topic1\", \"Topic1\", \"Topic1\", \"Topic1\", \"Topic1\", \"Topic1\", \"Topic1\", \"Topic1\", \"Topic1\", \"Topic1\", \"Topic1\", \"Topic1\", \"Topic1\", \"Topic1\", \"Topic1\", \"Topic1\", \"Topic1\", \"Topic1\", \"Topic1\", \"Topic1\", \"Topic1\", \"Topic1\", \"Topic1\", \"Topic1\", \"Topic1\", \"Topic1\", \"Topic1\", \"Topic2\", \"Topic2\", \"Topic2\", \"Topic2\", \"Topic2\", \"Topic2\", \"Topic2\", \"Topic2\", \"Topic2\", \"Topic2\", \"Topic2\", \"Topic2\", \"Topic2\", \"Topic2\", \"Topic2\", \"Topic2\", \"Topic2\", \"Topic2\", \"Topic2\", \"Topic2\", \"Topic2\", \"Topic2\", \"Topic2\", \"Topic2\", \"Topic2\", \"Topic2\", \"Topic2\", \"Topic2\", \"Topic2\", \"Topic2\", \"Topic2\", \"Topic2\", \"Topic2\", \"Topic2\", \"Topic2\", \"Topic2\", \"Topic2\", \"Topic3\", \"Topic3\", \"Topic3\", \"Topic3\", \"Topic3\", \"Topic3\", \"Topic3\", \"Topic3\", \"Topic3\", \"Topic3\", \"Topic3\", \"Topic3\", \"Topic3\", \"Topic3\", \"Topic3\", \"Topic3\", \"Topic3\", \"Topic3\", \"Topic3\", \"Topic3\", \"Topic3\", \"Topic3\", \"Topic3\", \"Topic3\", \"Topic3\", \"Topic3\", \"Topic3\", \"Topic3\", \"Topic3\", \"Topic3\", \"Topic3\", \"Topic3\", \"Topic3\", \"Topic3\", \"Topic3\", \"Topic4\", \"Topic4\", \"Topic4\", \"Topic4\", \"Topic4\", \"Topic4\", \"Topic4\", \"Topic4\", \"Topic4\", \"Topic4\", \"Topic4\", \"Topic4\", \"Topic4\", \"Topic4\", \"Topic4\", \"Topic4\", \"Topic4\", \"Topic4\", \"Topic4\", \"Topic4\", \"Topic4\", \"Topic4\", \"Topic4\", \"Topic4\", \"Topic4\", \"Topic4\", \"Topic4\", \"Topic4\", \"Topic4\", \"Topic4\", \"Topic4\", \"Topic4\", \"Topic4\", \"Topic4\", \"Topic4\", \"Topic4\", \"Topic4\", \"Topic4\"], \"logprob\": [30.0, 29.0, 28.0, 27.0, 26.0, 25.0, 24.0, 23.0, 22.0, 21.0, 20.0, 19.0, 18.0, 17.0, 16.0, 15.0, 14.0, 13.0, 12.0, 11.0, 10.0, 9.0, 8.0, 7.0, 6.0, 5.0, 4.0, 3.0, 2.0, 1.0, -0.7132, -2.0629, -2.4129, -2.7453, -3.1369, -3.1491, -3.2915, -3.7406, -3.6477, -4.0495, -3.9666, -4.6809, -4.6746, -10.6309, -10.6421, -10.6108, -10.6278, -10.6226, -10.6228, -10.6211, -10.6234, -10.638, -10.6294, -10.6347, -10.6156, -10.6337, -10.6296, -10.6327, -10.6336, -10.6247, -10.6212, -10.6231, -10.6112, -10.6182, -10.6021, -10.6202, -10.6174, -10.6262, -10.6278, -1.9969, -2.0401, -2.2102, -2.2505, -2.4738, -2.6798, -2.754, -2.7598, -3.0538, -2.959, -3.4531, -3.4282, -4.0098, -3.8847, -3.5777, -4.7284, -10.5503, -10.5421, -10.5331, -10.5345, -10.5332, -10.523, -10.5243, -10.5239, -10.534, -10.5395, -10.5384, -10.49, -10.5354, -10.539, -10.5104, -10.5116, -10.5298, -10.5312, -10.5308, -10.5326, -10.5329, -2.172, -2.3456, -2.378, -2.5531, -2.5756, -2.6212, -2.8639, -2.8942, -2.9859, -3.0186, -3.1811, -3.371, -2.8238, -3.6829, -3.1931, -3.3256, -4.5258, -4.6107, -10.309, -10.2896, -10.2944, -10.286, -10.2809, -10.3044, -10.2781, -10.2708, -10.2873, -10.3019, -10.287, -10.3027, -10.2904, -10.2817, -10.2767, -10.2844, -10.2909, -1.3251, -1.8147, -2.4134, -2.4641, -2.4848, -2.5351, -2.7136, -2.9781, -3.2023, -3.5477, -4.3541, -4.1116, -4.0818, -10.0479, -10.0431, -10.043, -10.0481, -10.0141, -10.0535, -10.0325, -10.0181, -10.0516, -10.0521, -10.0326, -10.049, -10.0493, -10.0476, -10.0535, -10.0487, -10.0372, -10.0433, -10.034, -10.0329, -10.0425, -10.0414, -10.044, -10.0448, -10.0473], \"loglift\": [30.0, 29.0, 28.0, 27.0, 26.0, 25.0, 24.0, 23.0, 22.0, 21.0, 20.0, 19.0, 18.0, 17.0, 16.0, 15.0, 14.0, 13.0, 12.0, 11.0, 10.0, 9.0, 8.0, 7.0, 6.0, 5.0, 4.0, 3.0, 2.0, 1.0, 1.203, 1.2026, 1.2023, 1.202, 1.2013, 1.2013, 1.201, 0.6801, 0.4905, 0.2455, -0.1835, -0.4005, -0.4597, -6.0049, -6.0545, -6.0768, -6.0866, -6.1588, -6.1915, -6.2413, -6.2837, -6.3143, -6.3199, -6.4893, -6.5292, -6.5385, -6.5491, -6.5582, -6.5665, -6.6031, -6.6222, -6.6166, -6.8043, -6.8175, -7.2779, -6.8284, -7.2501, -7.2004, -7.0094, 1.3273, 1.3273, 1.3272, 1.3271, 1.3269, 1.3267, 1.3266, 1.3266, 1.3261, 0.8478, 0.8418, 0.7866, 0.5242, 0.3956, 0.2054, -0.3077, -5.9243, -5.9544, -5.9918, -6.042, -6.0694, -6.0918, -6.1739, -6.1857, -6.1943, -6.2159, -6.2289, -6.3518, -6.3899, -6.4438, -6.4888, -6.8932, -6.5307, -6.7394, -8.6146, -7.1068, -6.9177, 1.4464, 1.4462, 1.4462, 1.446, 1.446, 1.4459, 1.4456, 1.4455, 1.4453, 1.4453, 1.4449, 1.1703, 1.102, 0.851, 0.5899, 0.4812, -0.1052, -0.3304, -5.7213, -5.797, -5.9145, -5.9355, -5.9427, -5.9807, -5.9831, -6.056, -6.1492, -6.1565, -6.2007, -6.2075, -6.2839, -6.481, -6.9524, -6.6692, -6.9235, 1.6113, 1.6111, 1.6105, 1.6105, 1.6104, 1.6104, 1.6101, 1.6096, 0.9359, 0.3781, 0.1872, 0.1687, 0.133, -5.4219, -5.5091, -5.5505, -5.5843, -5.5934, -5.6223, -5.6527, -5.6677, -5.7119, -5.7139, -5.7377, -5.7395, -5.963, -5.967, -5.9864, -6.0271, -6.0307, -6.0442, -6.2272, -6.2498, -6.5051, -6.674, -6.4663, -8.1286, -6.7231]}, \"token.table\": {\"Topic\": [3, 4, 3, 3, 3, 3, 1, 4, 1, 1, 2, 3, 2, 3, 1, 3, 4, 1, 1, 3, 1, 2, 4, 4, 4, 2, 2, 2, 4, 1, 4, 1, 2, 3, 4, 3, 2, 3, 1, 1, 2, 3, 2, 2, 3, 2, 4, 2, 4, 2, 4, 1, 2, 3, 3, 4, 2, 3, 3, 1], \"Freq\": [0.999211751798709, 0.9980575842422433, 0.9988748196183711, 0.999537250448082, 0.9995191102207309, 0.9974902428629538, 0.4907053090787248, 0.5083707002055589, 0.9997667230622138, 0.383448039856836, 0.6153537406085752, 0.999442375356749, 0.9996032394449862, 0.9991776909517889, 0.999456712754932, 0.7079678980152647, 0.2904890702618687, 0.9997427022085243, 0.9990112163578504, 0.9982218925340037, 0.1886094551275839, 0.5827820242706244, 0.22887439498628157, 0.9968970178077281, 0.9984936139362496, 0.9988995361120219, 0.9986592874802269, 0.9993580186953566, 0.9971638027578216, 0.9973619284712442, 0.9984376549510424, 0.20137794683338373, 0.39370519942706483, 0.16970051699442448, 0.23531805023226862, 0.997260727844891, 0.4490526190289819, 0.5511100324446596, 0.9987647256970411, 0.25045489093380413, 0.32476568274932843, 0.4238467385033608, 0.9989783445360884, 0.6186728229965949, 0.3805049253054228, 0.9987303629112798, 0.9983165003781223, 0.9989149779810715, 0.9998170257620844, 0.9972843475659365, 0.9992887312765245, 0.5936325320276743, 0.1952738592196297, 0.21089576795720008, 0.757811909721188, 0.2408549480509202, 0.9980183886811617, 0.9991121027817025, 0.997676692749672, 0.9975270322715674], \"Term\": [\"agent\", \"airlin\", \"airport\", \"amp\", \"bag\", \"board\", \"book\", \"book\", \"cancel\", \"chang\", \"chang\", \"check\", \"custom\", \"day\", \"delay\", \"fli\", \"fli\", \"flight\", \"flightl\", \"gate\", \"got\", \"got\", \"got\", \"great\", \"guy\", \"help\", \"hold\", \"hour\", \"know\", \"late\", \"like\", \"make\", \"make\", \"make\", \"make\", \"min\", \"minut\", \"minut\", \"miss\", \"need\", \"need\", \"need\", \"phone\", \"plane\", \"plane\", \"pleas\", \"seat\", \"servic\", \"thank\", \"ticket\", \"time\", \"today\", \"today\", \"today\", \"travel\", \"travel\", \"tri\", \"wait\", \"way\", \"work\"]}, \"R\": 30, \"lambda.step\": 0.01, \"plot.opts\": {\"xlab\": \"PC1\", \"ylab\": \"PC2\"}, \"topic.order\": [3, 1, 4, 2]};\n",
       "\n",
       "function LDAvis_load_lib(url, callback){\n",
       "  var s = document.createElement('script');\n",
       "  s.src = url;\n",
       "  s.async = true;\n",
       "  s.onreadystatechange = s.onload = callback;\n",
       "  s.onerror = function(){console.warn(\"failed to load library \" + url);};\n",
       "  document.getElementsByTagName(\"head\")[0].appendChild(s);\n",
       "}\n",
       "\n",
       "if(typeof(LDAvis) !== \"undefined\"){\n",
       "   // already loaded: just create the visualization\n",
       "   !function(LDAvis){\n",
       "       new LDAvis(\"#\" + \"ldavis_el2689620503545907926579918235\", ldavis_el2689620503545907926579918235_data);\n",
       "   }(LDAvis);\n",
       "}else if(typeof define === \"function\" && define.amd){\n",
       "   // require.js is available: use it to load d3/LDAvis\n",
       "   require.config({paths: {d3: \"https://d3js.org/d3.v5\"}});\n",
       "   require([\"d3\"], function(d3){\n",
       "      window.d3 = d3;\n",
       "      LDAvis_load_lib(\"https://cdn.jsdelivr.net/gh/bmabey/pyLDAvis@3.3.1/pyLDAvis/js/ldavis.v3.0.0.js\", function(){\n",
       "        new LDAvis(\"#\" + \"ldavis_el2689620503545907926579918235\", ldavis_el2689620503545907926579918235_data);\n",
       "      });\n",
       "    });\n",
       "}else{\n",
       "    // require.js not available: dynamically load d3 & LDAvis\n",
       "    LDAvis_load_lib(\"https://d3js.org/d3.v5.js\", function(){\n",
       "         LDAvis_load_lib(\"https://cdn.jsdelivr.net/gh/bmabey/pyLDAvis@3.3.1/pyLDAvis/js/ldavis.v3.0.0.js\", function(){\n",
       "                 new LDAvis(\"#\" + \"ldavis_el2689620503545907926579918235\", ldavis_el2689620503545907926579918235_data);\n",
       "            })\n",
       "         });\n",
       "}\n",
       "</script>"
      ],
      "text/plain": [
       "<IPython.core.display.HTML object>"
      ]
     },
     "execution_count": 16,
     "metadata": {},
     "output_type": "execute_result"
    }
   ],
   "source": [
    "# Convert the DataFrame to a matrix\n",
    "dtm_matrix = count_df_1.values\n",
    "\n",
    "# Convert the matrix to a format compatible with gensim\n",
    "corpus = matutils.Dense2Corpus(dtm_matrix.T)\n",
    "\n",
    "# Create a dictionary mapping of terms to their index\n",
    "terms = count_df_1.columns.tolist()\n",
    "dictionary = corpora.Dictionary.from_corpus(corpus, id2word=dict(enumerate(terms)))\n",
    "\n",
    "# Train LDA model\n",
    "lda_model = models.LdaModel(corpus=corpus, num_topics=4, id2word=dictionary, passes=15)\n",
    "\n",
    "# Visualize the LDA model\n",
    "lda_visualization = gensimvis.prepare(lda_model, corpus, dictionary)\n",
    "pyLDAvis.display(lda_visualization)"
   ]
  },
  {
   "cell_type": "code",
   "execution_count": 30,
   "id": "81d82ef1",
   "metadata": {},
   "outputs": [],
   "source": [
    "pyLDAvis.save_html(lda_visualization, 'lda_viz.html')\n",
    "# pyLDAvis.display(lda_visualization)"
   ]
  },
  {
   "cell_type": "code",
   "execution_count": 25,
   "id": "cae6d640",
   "metadata": {},
   "outputs": [
    {
     "ename": "KeyboardInterrupt",
     "evalue": "",
     "output_type": "error",
     "traceback": [
      "\u001b[1;31m---------------------------------------------------------------------------\u001b[0m",
      "\u001b[1;31mKeyboardInterrupt\u001b[0m                         Traceback (most recent call last)",
      "\u001b[1;32m~\\AppData\\Local\\Temp\\ipykernel_26896\\3676274763.py\u001b[0m in \u001b[0;36m<module>\u001b[1;34m\u001b[0m\n\u001b[0;32m      1\u001b[0m \u001b[0mnum_topics\u001b[0m \u001b[1;33m=\u001b[0m \u001b[1;36m5\u001b[0m\u001b[1;33m\u001b[0m\u001b[1;33m\u001b[0m\u001b[0m\n\u001b[0;32m      2\u001b[0m \u001b[0mlda_model_DH\u001b[0m \u001b[1;33m=\u001b[0m \u001b[0mLatentDirichletAllocation\u001b[0m\u001b[1;33m(\u001b[0m\u001b[0mn_components\u001b[0m\u001b[1;33m=\u001b[0m\u001b[0mnum_topics\u001b[0m\u001b[1;33m,\u001b[0m \u001b[0mmax_iter\u001b[0m\u001b[1;33m=\u001b[0m\u001b[1;36m100\u001b[0m\u001b[1;33m,\u001b[0m \u001b[0mlearning_method\u001b[0m\u001b[1;33m=\u001b[0m\u001b[1;34m'online'\u001b[0m\u001b[1;33m)\u001b[0m\u001b[1;33m\u001b[0m\u001b[1;33m\u001b[0m\u001b[0m\n\u001b[1;32m----> 3\u001b[1;33m \u001b[0mLDA_DH_Model\u001b[0m \u001b[1;33m=\u001b[0m \u001b[0mlda_model_DH\u001b[0m\u001b[1;33m.\u001b[0m\u001b[0mfit_transform\u001b[0m\u001b[1;33m(\u001b[0m\u001b[0mcount_df_1\u001b[0m\u001b[1;33m)\u001b[0m\u001b[1;33m\u001b[0m\u001b[1;33m\u001b[0m\u001b[0m\n\u001b[0m\u001b[0;32m      4\u001b[0m \u001b[0mword_topic\u001b[0m \u001b[1;33m=\u001b[0m \u001b[0mnp\u001b[0m\u001b[1;33m.\u001b[0m\u001b[0marray\u001b[0m\u001b[1;33m(\u001b[0m\u001b[0mlda_model_DH\u001b[0m\u001b[1;33m.\u001b[0m\u001b[0mcomponents_\u001b[0m\u001b[1;33m)\u001b[0m\u001b[1;33m\u001b[0m\u001b[1;33m\u001b[0m\u001b[0m\n\u001b[0;32m      5\u001b[0m \u001b[1;31m#print(word_topic)\u001b[0m\u001b[1;33m\u001b[0m\u001b[1;33m\u001b[0m\u001b[1;33m\u001b[0m\u001b[0m\n",
      "\u001b[1;32m~\\Anaconda3\\lib\\site-packages\\sklearn\\base.py\u001b[0m in \u001b[0;36mfit_transform\u001b[1;34m(self, X, y, **fit_params)\u001b[0m\n\u001b[0;32m    850\u001b[0m         \u001b[1;32mif\u001b[0m \u001b[0my\u001b[0m \u001b[1;32mis\u001b[0m \u001b[1;32mNone\u001b[0m\u001b[1;33m:\u001b[0m\u001b[1;33m\u001b[0m\u001b[1;33m\u001b[0m\u001b[0m\n\u001b[0;32m    851\u001b[0m             \u001b[1;31m# fit method of arity 1 (unsupervised transformation)\u001b[0m\u001b[1;33m\u001b[0m\u001b[1;33m\u001b[0m\u001b[1;33m\u001b[0m\u001b[0m\n\u001b[1;32m--> 852\u001b[1;33m             \u001b[1;32mreturn\u001b[0m \u001b[0mself\u001b[0m\u001b[1;33m.\u001b[0m\u001b[0mfit\u001b[0m\u001b[1;33m(\u001b[0m\u001b[0mX\u001b[0m\u001b[1;33m,\u001b[0m \u001b[1;33m**\u001b[0m\u001b[0mfit_params\u001b[0m\u001b[1;33m)\u001b[0m\u001b[1;33m.\u001b[0m\u001b[0mtransform\u001b[0m\u001b[1;33m(\u001b[0m\u001b[0mX\u001b[0m\u001b[1;33m)\u001b[0m\u001b[1;33m\u001b[0m\u001b[1;33m\u001b[0m\u001b[0m\n\u001b[0m\u001b[0;32m    853\u001b[0m         \u001b[1;32melse\u001b[0m\u001b[1;33m:\u001b[0m\u001b[1;33m\u001b[0m\u001b[1;33m\u001b[0m\u001b[0m\n\u001b[0;32m    854\u001b[0m             \u001b[1;31m# fit method of arity 2 (supervised transformation)\u001b[0m\u001b[1;33m\u001b[0m\u001b[1;33m\u001b[0m\u001b[1;33m\u001b[0m\u001b[0m\n",
      "\u001b[1;32m~\\Anaconda3\\lib\\site-packages\\sklearn\\decomposition\\_lda.py\u001b[0m in \u001b[0;36mfit\u001b[1;34m(self, X, y)\u001b[0m\n\u001b[0;32m    632\u001b[0m                             \u001b[0mtotal_samples\u001b[0m\u001b[1;33m=\u001b[0m\u001b[0mn_samples\u001b[0m\u001b[1;33m,\u001b[0m\u001b[1;33m\u001b[0m\u001b[1;33m\u001b[0m\u001b[0m\n\u001b[0;32m    633\u001b[0m                             \u001b[0mbatch_update\u001b[0m\u001b[1;33m=\u001b[0m\u001b[1;32mFalse\u001b[0m\u001b[1;33m,\u001b[0m\u001b[1;33m\u001b[0m\u001b[1;33m\u001b[0m\u001b[0m\n\u001b[1;32m--> 634\u001b[1;33m                             \u001b[0mparallel\u001b[0m\u001b[1;33m=\u001b[0m\u001b[0mparallel\u001b[0m\u001b[1;33m,\u001b[0m\u001b[1;33m\u001b[0m\u001b[1;33m\u001b[0m\u001b[0m\n\u001b[0m\u001b[0;32m    635\u001b[0m                         )\n\u001b[0;32m    636\u001b[0m                 \u001b[1;32melse\u001b[0m\u001b[1;33m:\u001b[0m\u001b[1;33m\u001b[0m\u001b[1;33m\u001b[0m\u001b[0m\n",
      "\u001b[1;32m~\\Anaconda3\\lib\\site-packages\\sklearn\\decomposition\\_lda.py\u001b[0m in \u001b[0;36m_em_step\u001b[1;34m(self, X, total_samples, batch_update, parallel)\u001b[0m\n\u001b[0;32m    500\u001b[0m         \u001b[1;31m# E-step\u001b[0m\u001b[1;33m\u001b[0m\u001b[1;33m\u001b[0m\u001b[1;33m\u001b[0m\u001b[0m\n\u001b[0;32m    501\u001b[0m         _, suff_stats = self._e_step(\n\u001b[1;32m--> 502\u001b[1;33m             \u001b[0mX\u001b[0m\u001b[1;33m,\u001b[0m \u001b[0mcal_sstats\u001b[0m\u001b[1;33m=\u001b[0m\u001b[1;32mTrue\u001b[0m\u001b[1;33m,\u001b[0m \u001b[0mrandom_init\u001b[0m\u001b[1;33m=\u001b[0m\u001b[1;32mTrue\u001b[0m\u001b[1;33m,\u001b[0m \u001b[0mparallel\u001b[0m\u001b[1;33m=\u001b[0m\u001b[0mparallel\u001b[0m\u001b[1;33m\u001b[0m\u001b[1;33m\u001b[0m\u001b[0m\n\u001b[0m\u001b[0;32m    503\u001b[0m         )\n\u001b[0;32m    504\u001b[0m \u001b[1;33m\u001b[0m\u001b[0m\n",
      "\u001b[1;32m~\\Anaconda3\\lib\\site-packages\\sklearn\\decomposition\\_lda.py\u001b[0m in \u001b[0;36m_e_step\u001b[1;34m(self, X, cal_sstats, random_init, parallel)\u001b[0m\n\u001b[0;32m    452\u001b[0m                 \u001b[0mrandom_state\u001b[0m\u001b[1;33m,\u001b[0m\u001b[1;33m\u001b[0m\u001b[1;33m\u001b[0m\u001b[0m\n\u001b[0;32m    453\u001b[0m             )\n\u001b[1;32m--> 454\u001b[1;33m             \u001b[1;32mfor\u001b[0m \u001b[0midx_slice\u001b[0m \u001b[1;32min\u001b[0m \u001b[0mgen_even_slices\u001b[0m\u001b[1;33m(\u001b[0m\u001b[0mX\u001b[0m\u001b[1;33m.\u001b[0m\u001b[0mshape\u001b[0m\u001b[1;33m[\u001b[0m\u001b[1;36m0\u001b[0m\u001b[1;33m]\u001b[0m\u001b[1;33m,\u001b[0m \u001b[0mn_jobs\u001b[0m\u001b[1;33m)\u001b[0m\u001b[1;33m\u001b[0m\u001b[1;33m\u001b[0m\u001b[0m\n\u001b[0m\u001b[0;32m    455\u001b[0m         )\n\u001b[0;32m    456\u001b[0m \u001b[1;33m\u001b[0m\u001b[0m\n",
      "\u001b[1;32m~\\Anaconda3\\lib\\site-packages\\joblib\\parallel.py\u001b[0m in \u001b[0;36m__call__\u001b[1;34m(self, iterable)\u001b[0m\n\u001b[0;32m   1046\u001b[0m             \u001b[1;31m# remaining jobs.\u001b[0m\u001b[1;33m\u001b[0m\u001b[1;33m\u001b[0m\u001b[1;33m\u001b[0m\u001b[0m\n\u001b[0;32m   1047\u001b[0m             \u001b[0mself\u001b[0m\u001b[1;33m.\u001b[0m\u001b[0m_iterating\u001b[0m \u001b[1;33m=\u001b[0m \u001b[1;32mFalse\u001b[0m\u001b[1;33m\u001b[0m\u001b[1;33m\u001b[0m\u001b[0m\n\u001b[1;32m-> 1048\u001b[1;33m             \u001b[1;32mif\u001b[0m \u001b[0mself\u001b[0m\u001b[1;33m.\u001b[0m\u001b[0mdispatch_one_batch\u001b[0m\u001b[1;33m(\u001b[0m\u001b[0miterator\u001b[0m\u001b[1;33m)\u001b[0m\u001b[1;33m:\u001b[0m\u001b[1;33m\u001b[0m\u001b[1;33m\u001b[0m\u001b[0m\n\u001b[0m\u001b[0;32m   1049\u001b[0m                 \u001b[0mself\u001b[0m\u001b[1;33m.\u001b[0m\u001b[0m_iterating\u001b[0m \u001b[1;33m=\u001b[0m \u001b[0mself\u001b[0m\u001b[1;33m.\u001b[0m\u001b[0m_original_iterator\u001b[0m \u001b[1;32mis\u001b[0m \u001b[1;32mnot\u001b[0m \u001b[1;32mNone\u001b[0m\u001b[1;33m\u001b[0m\u001b[1;33m\u001b[0m\u001b[0m\n\u001b[0;32m   1050\u001b[0m \u001b[1;33m\u001b[0m\u001b[0m\n",
      "\u001b[1;32m~\\Anaconda3\\lib\\site-packages\\joblib\\parallel.py\u001b[0m in \u001b[0;36mdispatch_one_batch\u001b[1;34m(self, iterator)\u001b[0m\n\u001b[0;32m    862\u001b[0m                 \u001b[1;32mreturn\u001b[0m \u001b[1;32mFalse\u001b[0m\u001b[1;33m\u001b[0m\u001b[1;33m\u001b[0m\u001b[0m\n\u001b[0;32m    863\u001b[0m             \u001b[1;32melse\u001b[0m\u001b[1;33m:\u001b[0m\u001b[1;33m\u001b[0m\u001b[1;33m\u001b[0m\u001b[0m\n\u001b[1;32m--> 864\u001b[1;33m                 \u001b[0mself\u001b[0m\u001b[1;33m.\u001b[0m\u001b[0m_dispatch\u001b[0m\u001b[1;33m(\u001b[0m\u001b[0mtasks\u001b[0m\u001b[1;33m)\u001b[0m\u001b[1;33m\u001b[0m\u001b[1;33m\u001b[0m\u001b[0m\n\u001b[0m\u001b[0;32m    865\u001b[0m                 \u001b[1;32mreturn\u001b[0m \u001b[1;32mTrue\u001b[0m\u001b[1;33m\u001b[0m\u001b[1;33m\u001b[0m\u001b[0m\n\u001b[0;32m    866\u001b[0m \u001b[1;33m\u001b[0m\u001b[0m\n",
      "\u001b[1;32m~\\Anaconda3\\lib\\site-packages\\joblib\\parallel.py\u001b[0m in \u001b[0;36m_dispatch\u001b[1;34m(self, batch)\u001b[0m\n\u001b[0;32m    780\u001b[0m         \u001b[1;32mwith\u001b[0m \u001b[0mself\u001b[0m\u001b[1;33m.\u001b[0m\u001b[0m_lock\u001b[0m\u001b[1;33m:\u001b[0m\u001b[1;33m\u001b[0m\u001b[1;33m\u001b[0m\u001b[0m\n\u001b[0;32m    781\u001b[0m             \u001b[0mjob_idx\u001b[0m \u001b[1;33m=\u001b[0m \u001b[0mlen\u001b[0m\u001b[1;33m(\u001b[0m\u001b[0mself\u001b[0m\u001b[1;33m.\u001b[0m\u001b[0m_jobs\u001b[0m\u001b[1;33m)\u001b[0m\u001b[1;33m\u001b[0m\u001b[1;33m\u001b[0m\u001b[0m\n\u001b[1;32m--> 782\u001b[1;33m             \u001b[0mjob\u001b[0m \u001b[1;33m=\u001b[0m \u001b[0mself\u001b[0m\u001b[1;33m.\u001b[0m\u001b[0m_backend\u001b[0m\u001b[1;33m.\u001b[0m\u001b[0mapply_async\u001b[0m\u001b[1;33m(\u001b[0m\u001b[0mbatch\u001b[0m\u001b[1;33m,\u001b[0m \u001b[0mcallback\u001b[0m\u001b[1;33m=\u001b[0m\u001b[0mcb\u001b[0m\u001b[1;33m)\u001b[0m\u001b[1;33m\u001b[0m\u001b[1;33m\u001b[0m\u001b[0m\n\u001b[0m\u001b[0;32m    783\u001b[0m             \u001b[1;31m# A job can complete so quickly than its callback is\u001b[0m\u001b[1;33m\u001b[0m\u001b[1;33m\u001b[0m\u001b[1;33m\u001b[0m\u001b[0m\n\u001b[0;32m    784\u001b[0m             \u001b[1;31m# called before we get here, causing self._jobs to\u001b[0m\u001b[1;33m\u001b[0m\u001b[1;33m\u001b[0m\u001b[1;33m\u001b[0m\u001b[0m\n",
      "\u001b[1;32m~\\Anaconda3\\lib\\site-packages\\joblib\\_parallel_backends.py\u001b[0m in \u001b[0;36mapply_async\u001b[1;34m(self, func, callback)\u001b[0m\n\u001b[0;32m    206\u001b[0m     \u001b[1;32mdef\u001b[0m \u001b[0mapply_async\u001b[0m\u001b[1;33m(\u001b[0m\u001b[0mself\u001b[0m\u001b[1;33m,\u001b[0m \u001b[0mfunc\u001b[0m\u001b[1;33m,\u001b[0m \u001b[0mcallback\u001b[0m\u001b[1;33m=\u001b[0m\u001b[1;32mNone\u001b[0m\u001b[1;33m)\u001b[0m\u001b[1;33m:\u001b[0m\u001b[1;33m\u001b[0m\u001b[1;33m\u001b[0m\u001b[0m\n\u001b[0;32m    207\u001b[0m         \u001b[1;34m\"\"\"Schedule a func to be run\"\"\"\u001b[0m\u001b[1;33m\u001b[0m\u001b[1;33m\u001b[0m\u001b[0m\n\u001b[1;32m--> 208\u001b[1;33m         \u001b[0mresult\u001b[0m \u001b[1;33m=\u001b[0m \u001b[0mImmediateResult\u001b[0m\u001b[1;33m(\u001b[0m\u001b[0mfunc\u001b[0m\u001b[1;33m)\u001b[0m\u001b[1;33m\u001b[0m\u001b[1;33m\u001b[0m\u001b[0m\n\u001b[0m\u001b[0;32m    209\u001b[0m         \u001b[1;32mif\u001b[0m \u001b[0mcallback\u001b[0m\u001b[1;33m:\u001b[0m\u001b[1;33m\u001b[0m\u001b[1;33m\u001b[0m\u001b[0m\n\u001b[0;32m    210\u001b[0m             \u001b[0mcallback\u001b[0m\u001b[1;33m(\u001b[0m\u001b[0mresult\u001b[0m\u001b[1;33m)\u001b[0m\u001b[1;33m\u001b[0m\u001b[1;33m\u001b[0m\u001b[0m\n",
      "\u001b[1;32m~\\Anaconda3\\lib\\site-packages\\joblib\\_parallel_backends.py\u001b[0m in \u001b[0;36m__init__\u001b[1;34m(self, batch)\u001b[0m\n\u001b[0;32m    570\u001b[0m         \u001b[1;31m# Don't delay the application, to avoid keeping the input\u001b[0m\u001b[1;33m\u001b[0m\u001b[1;33m\u001b[0m\u001b[1;33m\u001b[0m\u001b[0m\n\u001b[0;32m    571\u001b[0m         \u001b[1;31m# arguments in memory\u001b[0m\u001b[1;33m\u001b[0m\u001b[1;33m\u001b[0m\u001b[1;33m\u001b[0m\u001b[0m\n\u001b[1;32m--> 572\u001b[1;33m         \u001b[0mself\u001b[0m\u001b[1;33m.\u001b[0m\u001b[0mresults\u001b[0m \u001b[1;33m=\u001b[0m \u001b[0mbatch\u001b[0m\u001b[1;33m(\u001b[0m\u001b[1;33m)\u001b[0m\u001b[1;33m\u001b[0m\u001b[1;33m\u001b[0m\u001b[0m\n\u001b[0m\u001b[0;32m    573\u001b[0m \u001b[1;33m\u001b[0m\u001b[0m\n\u001b[0;32m    574\u001b[0m     \u001b[1;32mdef\u001b[0m \u001b[0mget\u001b[0m\u001b[1;33m(\u001b[0m\u001b[0mself\u001b[0m\u001b[1;33m)\u001b[0m\u001b[1;33m:\u001b[0m\u001b[1;33m\u001b[0m\u001b[1;33m\u001b[0m\u001b[0m\n",
      "\u001b[1;32m~\\Anaconda3\\lib\\site-packages\\joblib\\parallel.py\u001b[0m in \u001b[0;36m__call__\u001b[1;34m(self)\u001b[0m\n\u001b[0;32m    262\u001b[0m         \u001b[1;32mwith\u001b[0m \u001b[0mparallel_backend\u001b[0m\u001b[1;33m(\u001b[0m\u001b[0mself\u001b[0m\u001b[1;33m.\u001b[0m\u001b[0m_backend\u001b[0m\u001b[1;33m,\u001b[0m \u001b[0mn_jobs\u001b[0m\u001b[1;33m=\u001b[0m\u001b[0mself\u001b[0m\u001b[1;33m.\u001b[0m\u001b[0m_n_jobs\u001b[0m\u001b[1;33m)\u001b[0m\u001b[1;33m:\u001b[0m\u001b[1;33m\u001b[0m\u001b[1;33m\u001b[0m\u001b[0m\n\u001b[0;32m    263\u001b[0m             return [func(*args, **kwargs)\n\u001b[1;32m--> 264\u001b[1;33m                     for func, args, kwargs in self.items]\n\u001b[0m\u001b[0;32m    265\u001b[0m \u001b[1;33m\u001b[0m\u001b[0m\n\u001b[0;32m    266\u001b[0m     \u001b[1;32mdef\u001b[0m \u001b[0m__reduce__\u001b[0m\u001b[1;33m(\u001b[0m\u001b[0mself\u001b[0m\u001b[1;33m)\u001b[0m\u001b[1;33m:\u001b[0m\u001b[1;33m\u001b[0m\u001b[1;33m\u001b[0m\u001b[0m\n",
      "\u001b[1;32m~\\Anaconda3\\lib\\site-packages\\joblib\\parallel.py\u001b[0m in \u001b[0;36m<listcomp>\u001b[1;34m(.0)\u001b[0m\n\u001b[0;32m    262\u001b[0m         \u001b[1;32mwith\u001b[0m \u001b[0mparallel_backend\u001b[0m\u001b[1;33m(\u001b[0m\u001b[0mself\u001b[0m\u001b[1;33m.\u001b[0m\u001b[0m_backend\u001b[0m\u001b[1;33m,\u001b[0m \u001b[0mn_jobs\u001b[0m\u001b[1;33m=\u001b[0m\u001b[0mself\u001b[0m\u001b[1;33m.\u001b[0m\u001b[0m_n_jobs\u001b[0m\u001b[1;33m)\u001b[0m\u001b[1;33m:\u001b[0m\u001b[1;33m\u001b[0m\u001b[1;33m\u001b[0m\u001b[0m\n\u001b[0;32m    263\u001b[0m             return [func(*args, **kwargs)\n\u001b[1;32m--> 264\u001b[1;33m                     for func, args, kwargs in self.items]\n\u001b[0m\u001b[0;32m    265\u001b[0m \u001b[1;33m\u001b[0m\u001b[0m\n\u001b[0;32m    266\u001b[0m     \u001b[1;32mdef\u001b[0m \u001b[0m__reduce__\u001b[0m\u001b[1;33m(\u001b[0m\u001b[0mself\u001b[0m\u001b[1;33m)\u001b[0m\u001b[1;33m:\u001b[0m\u001b[1;33m\u001b[0m\u001b[1;33m\u001b[0m\u001b[0m\n",
      "\u001b[1;32m~\\Anaconda3\\lib\\site-packages\\sklearn\\utils\\fixes.py\u001b[0m in \u001b[0;36m__call__\u001b[1;34m(self, *args, **kwargs)\u001b[0m\n\u001b[0;32m    214\u001b[0m     \u001b[1;32mdef\u001b[0m \u001b[0m__call__\u001b[0m\u001b[1;33m(\u001b[0m\u001b[0mself\u001b[0m\u001b[1;33m,\u001b[0m \u001b[1;33m*\u001b[0m\u001b[0margs\u001b[0m\u001b[1;33m,\u001b[0m \u001b[1;33m**\u001b[0m\u001b[0mkwargs\u001b[0m\u001b[1;33m)\u001b[0m\u001b[1;33m:\u001b[0m\u001b[1;33m\u001b[0m\u001b[1;33m\u001b[0m\u001b[0m\n\u001b[0;32m    215\u001b[0m         \u001b[1;32mwith\u001b[0m \u001b[0mconfig_context\u001b[0m\u001b[1;33m(\u001b[0m\u001b[1;33m**\u001b[0m\u001b[0mself\u001b[0m\u001b[1;33m.\u001b[0m\u001b[0mconfig\u001b[0m\u001b[1;33m)\u001b[0m\u001b[1;33m:\u001b[0m\u001b[1;33m\u001b[0m\u001b[1;33m\u001b[0m\u001b[0m\n\u001b[1;32m--> 216\u001b[1;33m             \u001b[1;32mreturn\u001b[0m \u001b[0mself\u001b[0m\u001b[1;33m.\u001b[0m\u001b[0mfunction\u001b[0m\u001b[1;33m(\u001b[0m\u001b[1;33m*\u001b[0m\u001b[0margs\u001b[0m\u001b[1;33m,\u001b[0m \u001b[1;33m**\u001b[0m\u001b[0mkwargs\u001b[0m\u001b[1;33m)\u001b[0m\u001b[1;33m\u001b[0m\u001b[1;33m\u001b[0m\u001b[0m\n\u001b[0m\u001b[0;32m    217\u001b[0m \u001b[1;33m\u001b[0m\u001b[0m\n\u001b[0;32m    218\u001b[0m \u001b[1;33m\u001b[0m\u001b[0m\n",
      "\u001b[1;32m~\\Anaconda3\\lib\\site-packages\\sklearn\\decomposition\\_lda.py\u001b[0m in \u001b[0;36m_update_doc_distribution\u001b[1;34m(X, exp_topic_word_distr, doc_topic_prior, max_doc_update_iter, mean_change_tol, cal_sstats, random_state)\u001b[0m\n\u001b[0;32m    112\u001b[0m         \u001b[1;31m# The next one is a copy, since the inner loop overwrites it.\u001b[0m\u001b[1;33m\u001b[0m\u001b[1;33m\u001b[0m\u001b[1;33m\u001b[0m\u001b[0m\n\u001b[0;32m    113\u001b[0m         \u001b[0mexp_doc_topic_d\u001b[0m \u001b[1;33m=\u001b[0m \u001b[0mexp_doc_topic\u001b[0m\u001b[1;33m[\u001b[0m\u001b[0midx_d\u001b[0m\u001b[1;33m,\u001b[0m \u001b[1;33m:\u001b[0m\u001b[1;33m]\u001b[0m\u001b[1;33m.\u001b[0m\u001b[0mcopy\u001b[0m\u001b[1;33m(\u001b[0m\u001b[1;33m)\u001b[0m\u001b[1;33m\u001b[0m\u001b[1;33m\u001b[0m\u001b[0m\n\u001b[1;32m--> 114\u001b[1;33m         \u001b[0mexp_topic_word_d\u001b[0m \u001b[1;33m=\u001b[0m \u001b[0mexp_topic_word_distr\u001b[0m\u001b[1;33m[\u001b[0m\u001b[1;33m:\u001b[0m\u001b[1;33m,\u001b[0m \u001b[0mids\u001b[0m\u001b[1;33m]\u001b[0m\u001b[1;33m\u001b[0m\u001b[1;33m\u001b[0m\u001b[0m\n\u001b[0m\u001b[0;32m    115\u001b[0m \u001b[1;33m\u001b[0m\u001b[0m\n\u001b[0;32m    116\u001b[0m         \u001b[1;31m# Iterate between `doc_topic_d` and `norm_phi` until convergence\u001b[0m\u001b[1;33m\u001b[0m\u001b[1;33m\u001b[0m\u001b[1;33m\u001b[0m\u001b[0m\n",
      "\u001b[1;31mKeyboardInterrupt\u001b[0m: "
     ]
    }
   ],
   "source": [
    "num_topics = 5\n",
    "lda_model_DH = LatentDirichletAllocation(n_components=num_topics, max_iter=100, learning_method='online')\n",
    "LDA_DH_Model = lda_model_DH.fit_transform(count_df_1)\n",
    "word_topic = np.array(lda_model_DH.components_)\n",
    "#print(word_topic)\n",
    "word_topic = word_topic.transpose()\n",
    "num_top_words = 15\n",
    "vocab_array = count_df_1.columns.values\n",
    "fontsize_base = 15"
   ]
  },
  {
   "cell_type": "code",
   "execution_count": null,
   "id": "7a9008bb",
   "metadata": {},
   "outputs": [],
   "source": [
    "import matplotlib.pyplot as plt"
   ]
  },
  {
   "cell_type": "code",
   "execution_count": null,
   "id": "19f402e7",
   "metadata": {},
   "outputs": [],
   "source": [
    "for t in range(num_topics):\n",
    "    plt.subplot(1, num_topics, t + 1)  # plot numbering starts with 1\n",
    "    plt.ylim(0, num_top_words + 0.5)  # stretch the y-axis to accommodate the words\n",
    "    plt.xlim(0, num_topics + 5)\n",
    "    plt.xticks([])  # remove x-axis markings ('ticks')\n",
    "    plt.yticks([]) # remove y-axis markings ('ticks')\n",
    "    plt.title('Topic #{}'.format(t))\n",
    "    top_words_idx = np.argsort(word_topic[:,t])[::-1]  # descending order\n",
    "    top_words_idx = top_words_idx[:num_top_words]\n",
    "    top_words = vocab_array[top_words_idx]\n",
    "    top_words_shares = word_topic[top_words_idx, t]\n",
    "    for i, (word, share) in enumerate(zip(top_words, top_words_shares)):\n",
    "        plt.text(0.3, num_top_words-i-0.5, word, fontsize=fontsize_base)\n",
    "                 ##fontsize_base*share)\n",
    "\n",
    "plt.subplots_adjust(left=0.1,\n",
    "                    bottom=0.1, \n",
    "                    right=2, \n",
    "                    top=0.9, \n",
    "                    wspace=0.4, \n",
    "                    hspace=1)\n",
    "plt.show()"
   ]
  },
  {
   "cell_type": "code",
   "execution_count": null,
   "id": "09a98235",
   "metadata": {},
   "outputs": [],
   "source": []
  }
 ],
 "metadata": {
  "kernelspec": {
   "display_name": "Python 3 (ipykernel)",
   "language": "python",
   "name": "python3"
  },
  "language_info": {
   "codemirror_mode": {
    "name": "ipython",
    "version": 3
   },
   "file_extension": ".py",
   "mimetype": "text/x-python",
   "name": "python",
   "nbconvert_exporter": "python",
   "pygments_lexer": "ipython3",
   "version": "3.7.7"
  }
 },
 "nbformat": 4,
 "nbformat_minor": 5
}
