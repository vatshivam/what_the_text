{
 "cells": [
  {
   "cell_type": "code",
   "execution_count": 83,
   "id": "2cb85e9c-a6f8-4b1c-b93b-cd262e016214",
   "metadata": {},
   "outputs": [],
   "source": [
    "import requests\n",
    "import re\n",
    "import pandas as pd"
   ]
  },
  {
   "cell_type": "code",
   "execution_count": 68,
   "id": "0635cb82",
   "metadata": {},
   "outputs": [],
   "source": [
    "queries = ['American%20AND%20airlines&', \"virgin%20AND%atlantic&\", \"US%20AND%airways&\" , \"southwest%20AND%20airlines&\", \"delta%20AND%20airlines&\"]"
   ]
  },
  {
   "cell_type": "code",
   "execution_count": 88,
   "id": "93c30b88",
   "metadata": {},
   "outputs": [
    {
     "name": "stdout",
     "output_type": "stream",
     "text": [
      "https://newsapi.org/v2/everything?language=en&page=2&sortBy=popularity&searchIn=title&language=en&q=American%20AND%20airlines&apiKey=f35cca6d590c4ccd9d1d1d3defe0fdca\n",
      "here\n",
      "https://newsapi.org/v2/everything?language=en&page=2&sortBy=popularity&searchIn=title&language=en&q=virgin%20AND%atlantic&apiKey=f35cca6d590c4ccd9d1d1d3defe0fdca\n",
      "here\n",
      "https://newsapi.org/v2/everything?language=en&page=2&sortBy=popularity&searchIn=title&language=en&q=US%20AND%airways&apiKey=f35cca6d590c4ccd9d1d1d3defe0fdca\n",
      "here\n",
      "https://newsapi.org/v2/everything?language=en&page=2&sortBy=popularity&searchIn=title&language=en&q=southwest%20AND%20airlines&apiKey=f35cca6d590c4ccd9d1d1d3defe0fdca\n",
      "here\n",
      "https://newsapi.org/v2/everything?language=en&page=2&sortBy=popularity&searchIn=title&language=en&q=delta%20AND%20airlines&apiKey=f35cca6d590c4ccd9d1d1d3defe0fdca\n",
      "here\n"
     ]
    }
   ],
   "source": [
    "all_articles = []\n",
    "\n",
    "for query in queries:\n",
    "    \n",
    "    url = ('https://newsapi.org/v2/everything?'\n",
    "       'language=en&'\n",
    "       'page=2&'\n",
    "       'sortBy=popularity&'\n",
    "       'searchIn=title&'\n",
    "       'language=en&')\n",
    "    url = (url + 'q='+ query + 'apiKey=f35cca6d590c4ccd9d1d1d3defe0fdca')\n",
    "    print(url)\n",
    "#     break\n",
    "    response = requests.get(url).json()\n",
    "    print(\"here\")\n",
    "    all_articles = all_articles + response['articles']"
   ]
  },
  {
   "cell_type": "code",
   "execution_count": 89,
   "id": "d1a3f7a8",
   "metadata": {},
   "outputs": [
    {
     "data": {
      "text/plain": [
       "134"
      ]
     },
     "execution_count": 89,
     "metadata": {},
     "output_type": "execute_result"
    }
   ],
   "source": [
    "len(all_articles)"
   ]
  },
  {
   "cell_type": "code",
   "execution_count": 90,
   "id": "0f803cda",
   "metadata": {},
   "outputs": [
    {
     "name": "stdout",
     "output_type": "stream",
     "text": [
      "Title: American Airlines A flight to San Antonio\n",
      "Title: American Airlines Launches Flights to Governor s Harbour Eleuthera\n",
      "Title: Farting Passenger Removed From American Airlines Flight To Austin\n",
      "Title: American Airlines Adds Dallas to Brisbane Flights in October\n",
      "Title: Passenger Booted Off American Airlines Flight For Farting\n",
      "Title: How Can You Access an American Airlines Admirals Club or Flagship Lounge in\n",
      "Title: American Airlines will offer a new service to Brisbane later this year Updated for schedule update\n",
      "Title: Throwback to August when American Airlines operated to three London airports\n",
      "Title: SNAPSHOT American Airlines New York JFK to London Heathrow Airport Business Class\n",
      "Title: American Airlines Says It Should Not Be Held Responsible For Actions Of Pervert Flight Attendant\n",
      "Title: American Airlines Says It Should Not be Held Liable for Crimes Committed by Its Employees\n",
      "Title: Man Claims American Airlines Bumped Him From First Class Seat To Accommodate Service Dog\n",
      "Title: Firefighters Escort Passengers Off American Airlines Flight After Aircraft Slid Off Runway\n",
      "Title: American Airlines Celebrates Years at Dallas Fort Worth International Airport\n",
      "Title: American Airlines Flight Attendant Will Once Again Request To Be Released to Strike Later This Second Time Lucky\n",
      "Title: American Airlines Confirms it is Launching Flights to Brisbane From Dallas Fort Worth With New Flagship Suites\n",
      "Title: American Airlines is Trying to Dismiss Lawsuit Brought By Family Of Girl Who Was Secretly Filmed by Flight Attendant in Airplane Lavatory\n",
      "Title: United and American Airlines Add Flights to Las Vegas for the Super Bowl in Honor of Taylor Swift s Relationship With Travis Kelce\n",
      "Title: American Airlines Flight Attendants Up in Arms Over Profit Share After The Carrier Reported a Record Full Year Revenue of Billion in\n",
      "Title: Analyst Report American Airlines Group Inc\n",
      "Title: American Airlines is sued for seizing cardholders frequent flier miles\n",
      "Title: Irreconcilable Differences Divide American Airlines Flight Attendants And Management\n",
      "Title: Do Boarding Groups Even Matter on American Airlines Anymore\n",
      "Title: American Airlines Agent We Don t Do Standby At This Airport\n",
      "Title: Sorry United American Airlines Wins Coveted Tokyo Haneda Airport Slot\n",
      "Title: Aer Lingus has moved in with American Airlines in Chicago\n",
      "Title: American Airlines CEO Is Getting SKEWERED on Wikipedia\n",
      "Title: Man Pleads Guilty to Threatening American Airlines Flight Attendant With Shank in Terrifying Mid Flight Incident\n",
      "Title: New York gets a new route to the heart of Tokyo with American Airlines\n",
      "Title: SNAPSHOT American Airlines Philadelphia to San Francisco International Domestic Business Class\n",
      "Title: AMERICAN AIRLINES Daily seasonal flights between Brisbane and Dallas Fort Worth October to March\n",
      "Title: New American Airlines Business Class Amenity Kits Are Actually Just Cardboard Boxes\n",
      "Title: Another Family Sues American Airlines After Flight Attendant Videotapes Young Girl Using Lavatory\n",
      "Title: American Airlines Plans To Outsource Customer Service Jobs Promising It Will Improve Service\n",
      "Title: American Airlines Should Stop Flying and Just Sell Miles to Banks\n",
      "Title: Do I give American Airlines long haul Business Class another try opinions please\n",
      "Title: American Airlines Slashes Call Center Jobs But Claims the Cuts Will Actually Improve Customer Service\n",
      "Title: ER Lavatories Overflow With Sewage On American Airlines Flight From New Delhi\n",
      "Title: Freeze Dried Pasta is a New First Class Meal Choice at American Airlines\n",
      "Title: American Airlines Boeing Diverts to Charlotte After Oven Fire\n",
      "Title: American Airlines Flight Attendant Arrested On Suspicion For Filming Teenage Girl in Airplane Lavatory\n",
      "Title: American Airlines Flight Attendant Arrested After Surreptitiously Filming Multiple Teenage Passengers In Lavatory\n",
      "Title: Airplane Art American Airlines Boeing Dreamliner at Philadelphia Airport\n",
      "Title: SNAPSHOT American Airlines Dublin to Philadelipa International International Business Class\n",
      "Title: Royal Rumble American Airlines Karen Starts In Air Brawl With Wife of WWE Star\n",
      "Title: American Airlines will offer a new service to Brisbane later this year\n",
      "Title: Flight Attendants On American Airlines Flight Use Blankets to Mop Up Sewage Leaking From Lavatory Down the Aisle\n",
      "Title: American Airlines Terminated HIV Positive Flight Attendant Because He Had to Take Time Off Work to See His Doctor Lawsuit Claims\n",
      "Title: American Airlines flight attendant arrested suspected of trying to record teen in plane bathroom\n",
      "Title: American Airlines Flight Attendant Arrested for Filming Minors in Aircraft Lavatory US Department of Justice\n",
      "Title: What is Business Class on American Airlines\n",
      "Title: American Airlines Earnings History When Does AAL Report\n",
      "Title: American Airlines Earnings History When Does AAL Report\n",
      "Title: Look what the Chiefs made American Airlines do New flight numbers offered for Super Bowl\n",
      "Title: American Airlines flight attendant on plane to Boston allegedly filmed year old girl in bathroom\n",
      "Title: American Airlines flight attendant arrest The alleged victim s father confronted the attendant and saw the color drain out of his face\n",
      "Title: American Airlines hard landing on Maui sends to hospital\n",
      "Title: American Airlines CEO calls out Boeing saying the company needs to get their act together and that quality issues are unacceptable\n",
      "Title: American Airlines is trying to cash in on the Taylor Swift Travis Kelce mania by adding two Super Bowl flights dedicated to the couple\n",
      "Title: How American Airlines Fare Classes Work\n",
      "Title: The Guide to American Airlines Infant Policy\n",
      "Title: American Airlines AAdvantage US Canada Award Sale For Travel Through March Book By January\n",
      "Title: American Airlines to lay off employees to provide elevated customer service\n",
      "Title: American Airlines stock jumps after big profit beat upbeat outlook\n",
      "Title: Gassy Passenger Reportedly Forces American Airlines Plane to Make U Turn\n",
      "Title: American Airlines flight attendant meets rare baby flamingos who hatched from eggs she helped save midflight\n",
      "Title: American Airlines plane carrying people slips off New York runway during snowy conditions\n",
      "Title: Investigators detail how American Airlines jet crossed runway in front of Delta plane in near miss at JFK\n",
      "Title: Family of girl second to sue American Airlines flight attendant accused of secret filming in bathroom\n",
      "Title: Best American Airlines Credit Cards for January CNET\n",
      "Title: American Airlines plane slipped off snowy Rochester runway shortly after landing\n",
      "Title: American Airlines hard landing on Maui sends to hospital\n",
      "Title: American Airlines boosts frequent flyer perks\n",
      "Title: American Airlines passengers face potential schedule disruption\n",
      "Title: American Airlines upgraded to Buy at Citi\n",
      "Title: American Airlines earnings forecast beats estimates\n",
      "Title: AAL American Airlines Q Earnings\n",
      "Title: I m an American Airlines AAdvantage Executive Platinum\n",
      "Title: American Airlines makes major customer service changes\n",
      "Title: American Airlines Partner Gol Airlines May File Bankruptcy Within A Month\n",
      "Title: American Airlines upgraded as Wolfe Research gets a bit more positive on airlines\n",
      "Title: Financial Contrast Exchange Income OTCMKTS EIFZF and American Airlines Group NASDAQ AAL\n",
      "Title: Ground stop lifted for all American Airlines departures to BNA\n",
      "Title: American Airlines plane slides off runway at Rochester Airport\n",
      "Title: American Airlines makes major change affecting all its passengers\n",
      "Title: American Airlines forecasts profit largely above estimates\n",
      "Title: American Airlines operates nearly M flights in\n",
      "Title: American Airlines forecasts profit largely above estimates\n",
      "Title: American Airlines Group NASDAQ AAL Shares Gap Up Following Strong Earnings\n",
      "Title: American Airlines Group NASDAQ AAL Issues FY Earnings Guidance\n",
      "Title: Hah American Airlines Taylor Swift Super Bowl Flight\n",
      "Title: Barclays Boosts American Airlines Group NASDAQ AAL Price Target to\n",
      "Title: American Airlines Group AAL to Release Quarterly Earnings on Thursday\n",
      "Title: American Airlines is sued for seizing cardholders frequent flier miles\n",
      "Title: American Airlines Group NASDAQ AAL Upgraded by Citigroup to Buy\n",
      "Title: American Airlines flight s hard landing leaves injured\n",
      "Title: American Airlines is sued for seizing cardholders frequent flier miles\n",
      "Title: American Airlines eliminates DFW positions in customer support reorg\n",
      "Title: American Airlines Group NASDAQ AAL Stock Rating Reaffirmed by Evercore ISI\n",
      "Title: American Airlines Group NASDAQ AAL versus Virgin Australia OTCMKTS VBHLF Financial Contrast\n",
      "Title: New York Life Investment Management LLC Raises Holdings in Southwest Airlines Co NYSE LUV\n",
      "Title: Southwest Airlines Co NYSE LUV Shares Sold by Kestra Private Wealth Services LLC\n",
      "Title: Patten Patten Inc TN Has Stake in Southwest Airlines Co NYSE LUV\n",
      "Title: California Public Employees Retirement System Purchases Shares of Southwest Airlines Co NYSE LUV\n",
      "Title: ING Groep NV Makes New Investment in Southwest Airlines Co NYSE LUV\n",
      "Title: State of Michigan Retirement System Trims Holdings in Southwest Airlines Co NYSE LUV\n",
      "Title: Los Angeles Capital Management LLC Buys Shares of Southwest Airlines Co NYSE LUV\n",
      "Title: Venturi Wealth Management LLC Purchases New Shares in Southwest Airlines Co NYSE LUV\n",
      "Title: Southwest Airlines removes MAX from plans cuts delivery forecast from Boeing\n",
      "Title: Southwest Airlines removes MAX from plans cuts delivery forecast from Boeing\n",
      "Title: Southwest Airlines takes Boeing Max out of plans because of certification delays\n",
      "Title: Allspring Global Investments Holdings LLC Sells Shares of Southwest Airlines Co NYSE LUV\n",
      "Title: Larson Financial Group LLC Lowers Stake in Southwest Airlines Co NYSE LUV\n",
      "Title: Daiwa Securities Group Inc Has Stock Position in Southwest Airlines Co NYSE LUV\n",
      "Title: Quantbot Technologies LP Acquires New Stake in Southwest Airlines Co NYSE LUV\n",
      "Title: Metis Global Partners LLC Purchases Shares of Southwest Airlines Co NYSE LUV\n",
      "Title: Southwest Airlines Is Making It Easier To Fly For Free With a Friend\n",
      "Title: Southwest Airlines is reporting a loss and American expects to start the new year with a loss\n",
      "Title: Southwest Airlines is reporting a loss and American expects to start the new year with a loss\n",
      "Title: Southwest Airlines is reporting a loss and American expects to start the new year with a loss\n",
      "Title: SOUTHWEST AIRLINES PLANS CUSTOMER EXPERIENCE ENHANCEMENTS AND MODERNIZATION OF BRAND ELEMENTS WITH A REDESIGNED CABIN NEW SEATS AND A UNIFORM REFRESH\n",
      "Title: Southwest Airlines is reporting a loss and American expects to start the new year with a loss\n",
      "Title: Southwest Airlines pilots avert strike with new five year B deal\n",
      "Title: Southwest Airlines Reveals Thinner Seats To Cram More People Onboard\n",
      "Title: Southwest Airlines From One Way Wanna Getaway Airfares Book by January replies\n",
      "Title: RT Dallas to Tulsa OK or Vice Versa Nonstop Airfares on Southwest Airlines Travel February May replies\n",
      "Title: Southwest Airlines Double Points Rapid Rewards Register First Then Travel by May Register by January replies\n",
      "Title: Southwest Airlines takes Boeing Max out of plans because of certification delays\n",
      "Title: No Thanks I ll Walk The Internet HATES Southwest Airlines New Seating\n",
      "Title: Southwest Airlines pilots approve new five year contract Yahoo Finance\n",
      "Title: Southwest Airlines pilots approve new five year contract CNBC\n",
      "Title: Southwest Airlines is reporting a loss and American expects to start the new year with a loss Yahoo Finance\n",
      "Title: Baltimore Ravens tight end Mark Andrews helped save a woman s life on a Southwest Airlines flight CBS News\n",
      "Title: Southwest Airlines pilots approve new five year contract\n"
     ]
    }
   ],
   "source": [
    "titles = []\n",
    "\n",
    "for items in all_articles:\n",
    "\n",
    "\n",
    "    ## CLEAN the Title\n",
    "    ##----------------------------------------------------------\n",
    "    ##Replace punctuation with space\n",
    "    # Accept one or more copies of punctuation         \n",
    "    # plus zero or more copies of a space\n",
    "    # and replace it with a single space\n",
    "    Title=items[\"title\"]\n",
    "    Title=str(Title)\n",
    "    #print(Title)\n",
    "    Title=re.sub(r'[,.;@#?!&$\\-\\']+', ' ', str(Title), flags=re.IGNORECASE)\n",
    "    Title=re.sub(' +', ' ', str(Title), flags=re.IGNORECASE)\n",
    "    Title=re.sub(r'\\\"', ' ', str(Title), flags=re.IGNORECASE)\n",
    "\n",
    "    # and replace it with a single space\n",
    "    ## NOTE: Using the \"^\" on the inside of the [] means\n",
    "    ## we want to look for any chars NOT a-z or A-Z and replace\n",
    "    ## them with blank. This removes chars that should not be there.\n",
    "    Title=re.sub(r'[^a-zA-Z]', \" \", str(Title), flags=re.VERBOSE)\n",
    "    Title=Title.replace(',', '')\n",
    "    Title=' '.join(Title.split())\n",
    "    Title=re.sub(\"\\n|\\r\", \"\", Title)\n",
    "    print(\"Title:\",Title)\n",
    "    titles.append(Title)"
   ]
  },
  {
   "cell_type": "code",
   "execution_count": 91,
   "id": "9565f4f1",
   "metadata": {},
   "outputs": [],
   "source": [
    "newsapi_data = pd.DataFrame({'news':titles})"
   ]
  },
  {
   "cell_type": "code",
   "execution_count": 98,
   "id": "35707d1c",
   "metadata": {},
   "outputs": [],
   "source": [
    "newsapi_data.to_csv(\"newsapi_data.csv\")"
   ]
  }
 ],
 "metadata": {
  "kernelspec": {
   "display_name": "Python 3 (ipykernel)",
   "language": "python",
   "name": "python3"
  },
  "language_info": {
   "codemirror_mode": {
    "name": "ipython",
    "version": 3
   },
   "file_extension": ".py",
   "mimetype": "text/x-python",
   "name": "python",
   "nbconvert_exporter": "python",
   "pygments_lexer": "ipython3",
   "version": "3.7.7"
  }
 },
 "nbformat": 4,
 "nbformat_minor": 5
}
